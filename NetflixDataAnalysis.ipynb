{
  "nbformat": 4,
  "nbformat_minor": 0,
  "metadata": {
    "colab": {
      "name": "NetflixDataAnalysis.ipynb",
      "provenance": [],
      "toc_visible": true,
      "authorship_tag": "ABX9TyO6VDlyU2A894LNtGLTwzm2",
      "include_colab_link": true
    },
    "kernelspec": {
      "name": "python3",
      "display_name": "Python 3"
    },
    "language_info": {
      "name": "python"
    }
  },
  "cells": [
    {
      "cell_type": "markdown",
      "metadata": {
        "id": "view-in-github",
        "colab_type": "text"
      },
      "source": [
        "<a href=\"https://colab.research.google.com/github/konkall/Netflix_data_mining/blob/main/NetflixDataAnalysis.ipynb\" target=\"_parent\"><img src=\"https://colab.research.google.com/assets/colab-badge.svg\" alt=\"Open In Colab\"/></a>"
      ]
    },
    {
      "cell_type": "markdown",
      "metadata": {
        "id": "i_DE4QBlqv5Q"
      },
      "source": [
        "#Netflix Data Analysis\n",
        "\n",
        "Eisagwgiko minima sta agglika gia tin ergasia"
      ]
    },
    {
      "cell_type": "code",
      "metadata": {
        "id": "fdNETeA6hY4O",
        "colab": {
          "base_uri": "https://localhost:8080/"
        },
        "outputId": "27d066fc-33d7-43f5-b057-fda3d4266e9a"
      },
      "source": [
        "from google.colab import drive\n",
        "drive.mount('/content/gdrive')"
      ],
      "execution_count": 1,
      "outputs": [
        {
          "output_type": "stream",
          "text": [
            "Mounted at /content/gdrive\n"
          ],
          "name": "stdout"
        }
      ]
    },
    {
      "cell_type": "markdown",
      "metadata": {
        "id": "XQSILmhnrx6O"
      },
      "source": [
        "#Import Libraries"
      ]
    },
    {
      "cell_type": "code",
      "metadata": {
        "id": "GXeG_V7wr7M3"
      },
      "source": [
        "import pandas as pd\n"
      ],
      "execution_count": null,
      "outputs": []
    },
    {
      "cell_type": "markdown",
      "metadata": {
        "id": "KBe-wbl5sACS"
      },
      "source": [
        "#Load Dataset"
      ]
    },
    {
      "cell_type": "code",
      "metadata": {
        "id": "EYQIhx-4sFay"
      },
      "source": [
        ""
      ],
      "execution_count": null,
      "outputs": []
    },
    {
      "cell_type": "markdown",
      "metadata": {
        "id": "WRo5QO2rsKsB"
      },
      "source": [
        "#Preprocessing"
      ]
    },
    {
      "cell_type": "code",
      "metadata": {
        "id": "92iKaB15sP7h"
      },
      "source": [
        ""
      ],
      "execution_count": null,
      "outputs": []
    },
    {
      "cell_type": "markdown",
      "metadata": {
        "id": "Wy-6xCiWhikl"
      },
      "source": [
        "#Visualization Queries"
      ]
    },
    {
      "cell_type": "markdown",
      "metadata": {
        "id": "7piIrDH1rP2b"
      },
      "source": [
        "## Query 1\n",
        "Edw grafw tin erwtisi"
      ]
    },
    {
      "cell_type": "code",
      "metadata": {
        "id": "1vXdLmjPrcLD"
      },
      "source": [
        ""
      ],
      "execution_count": null,
      "outputs": []
    },
    {
      "cell_type": "markdown",
      "metadata": {
        "id": "EraxAFkRrdqP"
      },
      "source": [
        "##Query 2\n",
        "edw grafw tin erwtisi"
      ]
    },
    {
      "cell_type": "markdown",
      "metadata": {
        "id": "7evJHpChsa_R"
      },
      "source": [
        "#Recommendation System"
      ]
    },
    {
      "cell_type": "code",
      "metadata": {
        "id": "iBFbXue2sdXk"
      },
      "source": [
        ""
      ],
      "execution_count": null,
      "outputs": []
    }
  ]
}