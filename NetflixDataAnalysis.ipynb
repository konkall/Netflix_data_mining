{
  "nbformat": 4,
  "nbformat_minor": 0,
  "metadata": {
    "colab": {
      "name": "NetflixDataAnalysis.ipynb",
      "provenance": [],
      "collapsed_sections": [],
      "authorship_tag": "ABX9TyNwBKB8s1WAxSsk0bmh1gnQ",
      "include_colab_link": true
    },
    "kernelspec": {
      "name": "python3",
      "display_name": "Python 3"
    },
    "language_info": {
      "name": "python"
    }
  },
  "cells": [
    {
      "cell_type": "markdown",
      "metadata": {
        "id": "view-in-github",
        "colab_type": "text"
      },
      "source": [
        "<a href=\"https://colab.research.google.com/github/konkall/Netflix_data_mining/blob/main/NetflixDataAnalysis.ipynb\" target=\"_parent\"><img src=\"https://colab.research.google.com/assets/colab-badge.svg\" alt=\"Open In Colab\"/></a>"
      ]
    },
    {
      "cell_type": "markdown",
      "metadata": {
        "id": "i_DE4QBlqv5Q"
      },
      "source": [
        "#Netflix Data Analysis\n",
        "\n",
        "In this project we are going to explore a dataset that contains Movies/TV Series that are available in the popular streaming platform \"Netflix\". \n",
        "\n",
        "In the first part of this project we're going to visualize some data based on a number of queries that are available below. In the second part we will try to extract useful information from our data in order to build a recommendation system."
      ]
    },
    {
      "cell_type": "code",
      "metadata": {
        "id": "fdNETeA6hY4O",
        "colab": {
          "base_uri": "https://localhost:8080/"
        },
        "outputId": "66976f7a-88ba-46aa-fd70-99467c019a1a"
      },
      "source": [
        "from google.colab import drive\n",
        "drive.mount('/content/gdrive')"
      ],
      "execution_count": 1,
      "outputs": [
        {
          "output_type": "stream",
          "text": [
            "Mounted at /content/gdrive\n"
          ],
          "name": "stdout"
        }
      ]
    },
    {
      "cell_type": "markdown",
      "metadata": {
        "id": "XQSILmhnrx6O"
      },
      "source": [
        "#Import Libraries"
      ]
    },
    {
      "cell_type": "code",
      "metadata": {
        "id": "GXeG_V7wr7M3"
      },
      "source": [
        "# For large and multi-dimensional arrays\n",
        "import numpy as np\n",
        "# For data manipulation and analysis\n",
        "import pandas as pd\n",
        "\n",
        "\n",
        "# For data vizualization \n",
        "import matplotlib as mpl\n",
        "import matplotlib.pyplot as plt\n",
        "\n",
        "%matplotlib inline\n"
      ],
      "execution_count": 3,
      "outputs": []
    },
    {
      "cell_type": "markdown",
      "metadata": {
        "id": "KBe-wbl5sACS"
      },
      "source": [
        "#Load Dataset"
      ]
    },
    {
      "cell_type": "code",
      "metadata": {
        "id": "EYQIhx-4sFay",
        "colab": {
          "base_uri": "https://localhost:8080/",
          "height": 606
        },
        "outputId": "7a64521e-5797-4bf8-d616-dcd7a29f307b"
      },
      "source": [
        "Location = r'/content/gdrive/MyDrive/DataMining/Εργασίες/Data Mining Netflix/data/netflix_titles.csv' # Τo r κάνει escape όλους τους χαρακτήρες στην συμβολοσειρά\n",
        "\n",
        "df = pd.read_csv(Location)\n",
        "df.info()\n",
        "df.head()"
      ],
      "execution_count": 4,
      "outputs": [
        {
          "output_type": "stream",
          "text": [
            "<class 'pandas.core.frame.DataFrame'>\n",
            "RangeIndex: 7787 entries, 0 to 7786\n",
            "Data columns (total 12 columns):\n",
            " #   Column        Non-Null Count  Dtype \n",
            "---  ------        --------------  ----- \n",
            " 0   show_id       7787 non-null   object\n",
            " 1   type          7787 non-null   object\n",
            " 2   title         7787 non-null   object\n",
            " 3   director      5398 non-null   object\n",
            " 4   cast          7069 non-null   object\n",
            " 5   country       7280 non-null   object\n",
            " 6   date_added    7777 non-null   object\n",
            " 7   release_year  7787 non-null   int64 \n",
            " 8   rating        7780 non-null   object\n",
            " 9   duration      7787 non-null   object\n",
            " 10  listed_in     7787 non-null   object\n",
            " 11  description   7787 non-null   object\n",
            "dtypes: int64(1), object(11)\n",
            "memory usage: 730.2+ KB\n"
          ],
          "name": "stdout"
        },
        {
          "output_type": "execute_result",
          "data": {
            "text/html": [
              "<div>\n",
              "<style scoped>\n",
              "    .dataframe tbody tr th:only-of-type {\n",
              "        vertical-align: middle;\n",
              "    }\n",
              "\n",
              "    .dataframe tbody tr th {\n",
              "        vertical-align: top;\n",
              "    }\n",
              "\n",
              "    .dataframe thead th {\n",
              "        text-align: right;\n",
              "    }\n",
              "</style>\n",
              "<table border=\"1\" class=\"dataframe\">\n",
              "  <thead>\n",
              "    <tr style=\"text-align: right;\">\n",
              "      <th></th>\n",
              "      <th>show_id</th>\n",
              "      <th>type</th>\n",
              "      <th>title</th>\n",
              "      <th>director</th>\n",
              "      <th>cast</th>\n",
              "      <th>country</th>\n",
              "      <th>date_added</th>\n",
              "      <th>release_year</th>\n",
              "      <th>rating</th>\n",
              "      <th>duration</th>\n",
              "      <th>listed_in</th>\n",
              "      <th>description</th>\n",
              "    </tr>\n",
              "  </thead>\n",
              "  <tbody>\n",
              "    <tr>\n",
              "      <th>0</th>\n",
              "      <td>s1</td>\n",
              "      <td>TV Show</td>\n",
              "      <td>3%</td>\n",
              "      <td>NaN</td>\n",
              "      <td>João Miguel, Bianca Comparato, Michel Gomes, R...</td>\n",
              "      <td>Brazil</td>\n",
              "      <td>August 14, 2020</td>\n",
              "      <td>2020</td>\n",
              "      <td>TV-MA</td>\n",
              "      <td>4 Seasons</td>\n",
              "      <td>International TV Shows, TV Dramas, TV Sci-Fi &amp;...</td>\n",
              "      <td>In a future where the elite inhabit an island ...</td>\n",
              "    </tr>\n",
              "    <tr>\n",
              "      <th>1</th>\n",
              "      <td>s2</td>\n",
              "      <td>Movie</td>\n",
              "      <td>7:19</td>\n",
              "      <td>Jorge Michel Grau</td>\n",
              "      <td>Demián Bichir, Héctor Bonilla, Oscar Serrano, ...</td>\n",
              "      <td>Mexico</td>\n",
              "      <td>December 23, 2016</td>\n",
              "      <td>2016</td>\n",
              "      <td>TV-MA</td>\n",
              "      <td>93 min</td>\n",
              "      <td>Dramas, International Movies</td>\n",
              "      <td>After a devastating earthquake hits Mexico Cit...</td>\n",
              "    </tr>\n",
              "    <tr>\n",
              "      <th>2</th>\n",
              "      <td>s3</td>\n",
              "      <td>Movie</td>\n",
              "      <td>23:59</td>\n",
              "      <td>Gilbert Chan</td>\n",
              "      <td>Tedd Chan, Stella Chung, Henley Hii, Lawrence ...</td>\n",
              "      <td>Singapore</td>\n",
              "      <td>December 20, 2018</td>\n",
              "      <td>2011</td>\n",
              "      <td>R</td>\n",
              "      <td>78 min</td>\n",
              "      <td>Horror Movies, International Movies</td>\n",
              "      <td>When an army recruit is found dead, his fellow...</td>\n",
              "    </tr>\n",
              "    <tr>\n",
              "      <th>3</th>\n",
              "      <td>s4</td>\n",
              "      <td>Movie</td>\n",
              "      <td>9</td>\n",
              "      <td>Shane Acker</td>\n",
              "      <td>Elijah Wood, John C. Reilly, Jennifer Connelly...</td>\n",
              "      <td>United States</td>\n",
              "      <td>November 16, 2017</td>\n",
              "      <td>2009</td>\n",
              "      <td>PG-13</td>\n",
              "      <td>80 min</td>\n",
              "      <td>Action &amp; Adventure, Independent Movies, Sci-Fi...</td>\n",
              "      <td>In a postapocalyptic world, rag-doll robots hi...</td>\n",
              "    </tr>\n",
              "    <tr>\n",
              "      <th>4</th>\n",
              "      <td>s5</td>\n",
              "      <td>Movie</td>\n",
              "      <td>21</td>\n",
              "      <td>Robert Luketic</td>\n",
              "      <td>Jim Sturgess, Kevin Spacey, Kate Bosworth, Aar...</td>\n",
              "      <td>United States</td>\n",
              "      <td>January 1, 2020</td>\n",
              "      <td>2008</td>\n",
              "      <td>PG-13</td>\n",
              "      <td>123 min</td>\n",
              "      <td>Dramas</td>\n",
              "      <td>A brilliant group of students become card-coun...</td>\n",
              "    </tr>\n",
              "  </tbody>\n",
              "</table>\n",
              "</div>"
            ],
            "text/plain": [
              "  show_id  ...                                        description\n",
              "0      s1  ...  In a future where the elite inhabit an island ...\n",
              "1      s2  ...  After a devastating earthquake hits Mexico Cit...\n",
              "2      s3  ...  When an army recruit is found dead, his fellow...\n",
              "3      s4  ...  In a postapocalyptic world, rag-doll robots hi...\n",
              "4      s5  ...  A brilliant group of students become card-coun...\n",
              "\n",
              "[5 rows x 12 columns]"
            ]
          },
          "metadata": {
            "tags": []
          },
          "execution_count": 4
        }
      ]
    },
    {
      "cell_type": "markdown",
      "metadata": {
        "id": "WRo5QO2rsKsB"
      },
      "source": [
        "#Preprocessing"
      ]
    },
    {
      "cell_type": "code",
      "metadata": {
        "id": "92iKaB15sP7h",
        "colab": {
          "base_uri": "https://localhost:8080/"
        },
        "outputId": "1586b0c2-849a-4554-ed66-4f5759d9649e"
      },
      "source": [
        "testdf = df.groupby(['type']).size()\n",
        "testdf.to_numpy()\n",
        "df.type.unique()\n"
      ],
      "execution_count": 94,
      "outputs": [
        {
          "output_type": "execute_result",
          "data": {
            "text/plain": [
              "array(['TV Show', 'Movie'], dtype=object)"
            ]
          },
          "metadata": {
            "tags": []
          },
          "execution_count": 94
        }
      ]
    },
    {
      "cell_type": "markdown",
      "metadata": {
        "id": "Uk6xgGmxg1sW"
      },
      "source": [
        "The preprocessing of our data will take place before executing each query. This is because we need to take into consideration the nature of each question before deciding how to proprocess our dataset."
      ]
    },
    {
      "cell_type": "markdown",
      "metadata": {
        "id": "Wy-6xCiWhikl"
      },
      "source": [
        "#Visualization Queries"
      ]
    },
    {
      "cell_type": "markdown",
      "metadata": {
        "id": "7piIrDH1rP2b"
      },
      "source": [
        "## Query 1\n",
        "What type of media is hosted more in Netflix, Movies or TV Series?"
      ]
    },
    {
      "cell_type": "code",
      "metadata": {
        "id": "1vXdLmjPrcLD",
        "colab": {
          "base_uri": "https://localhost:8080/",
          "height": 429
        },
        "outputId": "20d3b93d-04fa-4382-fba1-8a9e8f6d234e"
      },
      "source": [
        "types_count = df.groupby(['type']).size().to_numpy()\n",
        "\n",
        "plt.figure(figsize= (7,7))\n",
        "plt.pie(types_count, textprops={'fontsize':15,'color':'white'}, autopct = lambda p : '{:.2f}% \\n({:.0f})'.format(p, (p/100)*types_count.sum()))\n",
        "plt.title('Movie / TV Series Distribution', fontsize = 16)\n",
        "plt.axis('off')\n",
        "plt.legend(labels = df.type.unique(), prop={\"size\":14}, loc='lower left')\n",
        "plt.show()"
      ],
      "execution_count": 5,
      "outputs": [
        {
          "output_type": "display_data",
          "data": {
            "image/png": "[encoded data removed]",
            "text/plain": [
              "<Figure size 504x504 with 1 Axes>"
            ]
          },
          "metadata": {
            "tags": []
          }
        }
      ]
    },
    {
      "cell_type": "markdown",
      "metadata": {
        "id": "EraxAFkRrdqP"
      },
      "source": [
        "##Query 2\n",
        "In the last few years Netflix invests more in Movies or TV Series?"
      ]
    },
    {
      "cell_type": "code",
      "metadata": {
        "colab": {
          "base_uri": "https://localhost:8080/",
          "height": 283
        },
        "id": "0VsGxwjY8D6x",
        "outputId": "d08146e1-9110-4fd5-eeba-bf15a604c48b"
      },
      "source": [
        "tempdf = df\n",
        "\n",
        "#Preprocessing: Deleting rows that contain a NaN value under \"date_added\"\n",
        "tempdf.dropna(subset = [\"date_added\"], inplace=True)\n",
        "tempdf = tempdf.reset_index()\n",
        "\n",
        "#Changes the date_added column date format from \"M D, Y\" to \"Y\"\n",
        "tempdf['date_added'] = tempdf['date_added'].str[-4:]\n",
        "\n",
        "#Groups our data by 'date_added' and 'type' and keeps the last 5 years\n",
        "inv_media = tempdf.groupby(['date_added', 'type']).size()\n",
        "inv_media = inv_media.tail(10)\n",
        "\n",
        "#Prints our data as a bar\n",
        "inv_media.unstack().plot.bar(figsize= (12,4))\n",
        "plt.title('Most Invested type of Media per Year', fontsize = 16)\n",
        "plt.xticks(rotation = 0)\n",
        "plt.xlabel('', fontsize = 14)\n",
        "plt.legend(prop={\"size\":14})\n",
        "plt.show()"
      ],
      "execution_count": 6,
      "outputs": [
        {
          "output_type": "display_data",
          "data": {
            "image/png": "[encoded data removed]",
            "text/plain": [
              "<Figure size 864x288 with 1 Axes>"
            ]
          },
          "metadata": {
            "tags": [],
            "needs_background": "light"
          }
        }
      ]
    },
    {
      "cell_type": "markdown",
      "metadata": {
        "id": "x-exk5rXfrE6"
      },
      "source": [
        "##Query 3\n",
        "Which country has the most content?"
      ]
    },
    {
      "cell_type": "code",
      "metadata": {
        "colab": {
          "base_uri": "https://localhost:8080/",
          "height": 504
        },
        "id": "zK0ohMszf8DG",
        "outputId": "46786884-8810-4d1b-8aea-5f0f3c312468"
      },
      "source": [
        "tempdf = df\n",
        "\n",
        "#Preprocessing: Deleting rows that contain a NaN value under \"country\"\n",
        "tempdf.dropna(subset = [\"country\"], inplace=True)\n",
        "tempdf = tempdf.reset_index()\n",
        "\n",
        "#The 'country' column sometimes has multiple countries in the same entry, so we need to create a seperate row for each country\n",
        "new_tempdf = tempdf.assign(country=tempdf['country'].str.strip(',').str.replace(', ', ',').str.split(',')).explode('country').reset_index()\n",
        "\n",
        "#We group our data based on the country and keep the 10 countries with the most content\n",
        "new_tempdf = new_tempdf.groupby('country').size().sort_values().tail(10)\n",
        "\n",
        "#We plot our data\n",
        "new_tempdf.plot.bar(figsize = (16,8))\n",
        "plt.title('Countries with most Content', fontsize = 16)\n",
        "plt.xticks(rotation = 0, fontsize = 12)\n",
        "plt.xlabel('', fontsize = 14)\n",
        "plt.show()"
      ],
      "execution_count": 44,
      "outputs": [
        {
          "output_type": "display_data",
          "data": {
            "image/png": "[encoded data removed]",
            "text/plain": [
              "<Figure size 1152x576 with 1 Axes>"
            ]
          },
          "metadata": {
            "tags": [],
            "needs_background": "light"
          }
        }
      ]
    },
    {
      "cell_type": "markdown",
      "metadata": {
        "id": "7evJHpChsa_R"
      },
      "source": [
        "#Recommendation System"
      ]
    },
    {
      "cell_type": "code",
      "metadata": {
        "id": "iBFbXue2sdXk"
      },
      "source": [
        ""
      ],
      "execution_count": null,
      "outputs": []
    }
  ]
}